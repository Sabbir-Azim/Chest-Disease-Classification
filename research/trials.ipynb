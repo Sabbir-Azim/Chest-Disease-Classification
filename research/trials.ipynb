{
 "cells": [
  {
   "cell_type": "markdown",
   "id": "5ae6c6dc",
   "metadata": {},
   "source": [
    "### Download data from Google Drive"
   ]
  },
  {
   "cell_type": "code",
   "execution_count": 1,
   "id": "a8af7be3",
   "metadata": {},
   "outputs": [
    {
     "name": "stdout",
     "output_type": "stream",
     "text": [
      "c:\\Users\\ACER\\anaconda3\\envs\\chest\\python.exe\n"
     ]
    }
   ],
   "source": [
    "import sys\n",
    "print(sys.executable)"
   ]
  },
  {
   "cell_type": "code",
   "execution_count": 1,
   "id": "b2e806b1",
   "metadata": {},
   "outputs": [
    {
     "name": "stdout",
     "output_type": "stream",
     "text": [
      "c:\\Users\\ACER\\anaconda3\\envs\\chest_clean\\python.exe\n",
      "C:\\Users\\ACER\\anaconda3\\python.exe\n",
      "C:\\Users\\ACER\\AppData\\Local\\Microsoft\\WindowsApps\\python.exe\n"
     ]
    }
   ],
   "source": [
    "!where python\n"
   ]
  },
  {
   "cell_type": "code",
   "execution_count": 3,
   "id": "e058a3d2",
   "metadata": {},
   "outputs": [],
   "source": [
    "import gdown"
   ]
  },
  {
   "cell_type": "code",
   "execution_count": 5,
   "id": "9a408505",
   "metadata": {},
   "outputs": [],
   "source": [
    "url = \"https://drive.google.com/file/d/1MCAhGp3E6IWzV9Tjn2Y_hqYar_0h3Aoh/view?usp=sharing\""
   ]
  },
  {
   "cell_type": "code",
   "execution_count": 12,
   "id": "19918ddc",
   "metadata": {},
   "outputs": [
    {
     "data": {
      "text/plain": [
       "['https:',\n",
       " '',\n",
       " 'drive.google.com',\n",
       " 'file',\n",
       " 'd',\n",
       " '1MCAhGp3E6IWzV9Tjn2Y_hqYar_0h3Aoh',\n",
       " 'view?usp=sharing']"
      ]
     },
     "execution_count": 12,
     "metadata": {},
     "output_type": "execute_result"
    }
   ],
   "source": [
    "url.split(\"/\")"
   ]
  },
  {
   "cell_type": "code",
   "execution_count": 14,
   "id": "3ae1482d",
   "metadata": {},
   "outputs": [
    {
     "data": {
      "text/plain": [
       "'1MCAhGp3E6IWzV9Tjn2Y_hqYar_0h3Aoh'"
      ]
     },
     "execution_count": 14,
     "metadata": {},
     "output_type": "execute_result"
    }
   ],
   "source": [
    "file_id = url.split(\"/\")[-2]\n",
    "file_id"
   ]
  },
  {
   "cell_type": "code",
   "execution_count": 16,
   "id": "d8787521",
   "metadata": {},
   "outputs": [
    {
     "name": "stderr",
     "output_type": "stream",
     "text": [
      "Downloading...\n",
      "From (original): https://drive.google.com/uc?/export=download&id=1MCAhGp3E6IWzV9Tjn2Y_hqYar_0h3Aoh\n",
      "From (redirected): https://drive.google.com/uc?%2Fexport=download&id=1MCAhGp3E6IWzV9Tjn2Y_hqYar_0h3Aoh&confirm=t&uuid=9e6f9d3f-db41-4381-9caa-214a575b9145\n",
      "To: f:\\Project_File\\Deep Learning Project\\Chest-Disease-Classification\\research\\Chest-CT-Scan-data.zip\n",
      "100%|██████████| 124M/124M [06:03<00:00, 342kB/s] \n"
     ]
    },
    {
     "data": {
      "text/plain": [
       "'Chest-CT-Scan-data.zip'"
      ]
     },
     "execution_count": 16,
     "metadata": {},
     "output_type": "execute_result"
    }
   ],
   "source": [
    "prefix = 'https://drive.google.com/uc?/export=download&id='\n",
    "gdown.download(prefix + file_id, \"Chest-CT-Scan-data.zip\")"
   ]
  },
  {
   "cell_type": "code",
   "execution_count": null,
   "id": "f88ca564",
   "metadata": {},
   "outputs": [],
   "source": []
  },
  {
   "cell_type": "code",
   "execution_count": null,
   "id": "5177df00",
   "metadata": {},
   "outputs": [],
   "source": []
  }
 ],
 "metadata": {
  "kernelspec": {
   "display_name": "chest_clean",
   "language": "python",
   "name": "python3"
  },
  "language_info": {
   "codemirror_mode": {
    "name": "ipython",
    "version": 3
   },
   "file_extension": ".py",
   "mimetype": "text/x-python",
   "name": "python",
   "nbconvert_exporter": "python",
   "pygments_lexer": "ipython3",
   "version": "3.9.15"
  }
 },
 "nbformat": 4,
 "nbformat_minor": 5
}
